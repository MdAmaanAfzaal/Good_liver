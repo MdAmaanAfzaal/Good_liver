{
 "cells": [
  {
   "cell_type": "markdown",
   "id": "956915a2",
   "metadata": {},
   "source": [
    "### Step 1: Business problem understanding"
   ]
  },
  {
   "cell_type": "markdown",
   "id": "9b66c6a9",
   "metadata": {},
   "source": [
    "**Liver disorder classification**"
   ]
  },
  {
   "cell_type": "code",
   "execution_count": 1,
   "id": "7af93ea1",
   "metadata": {},
   "outputs": [],
   "source": [
    "import numpy as np\n",
    "import pandas as pd\n",
    "import matplotlib.pyplot as plt\n",
    "import seaborn as sns\n",
    "sns.set()\n",
    "import warnings\n",
    "warnings.filterwarnings('ignore')"
   ]
  },
  {
   "cell_type": "markdown",
   "id": "eb321ad9",
   "metadata": {},
   "source": [
    "### Step 2: Data understanding"
   ]
  },
  {
   "cell_type": "code",
   "execution_count": 2,
   "id": "f4083e9e",
   "metadata": {},
   "outputs": [
    {
     "data": {
      "text/html": [
       "<div>\n",
       "<style scoped>\n",
       "    .dataframe tbody tr th:only-of-type {\n",
       "        vertical-align: middle;\n",
       "    }\n",
       "\n",
       "    .dataframe tbody tr th {\n",
       "        vertical-align: top;\n",
       "    }\n",
       "\n",
       "    .dataframe thead th {\n",
       "        text-align: right;\n",
       "    }\n",
       "</style>\n",
       "<table border=\"1\" class=\"dataframe\">\n",
       "  <thead>\n",
       "    <tr style=\"text-align: right;\">\n",
       "      <th></th>\n",
       "      <th>Age</th>\n",
       "      <th>Gender</th>\n",
       "      <th>TB</th>\n",
       "      <th>DB</th>\n",
       "      <th>Alkphos</th>\n",
       "      <th>Sgpt</th>\n",
       "      <th>Sgot</th>\n",
       "      <th>TP</th>\n",
       "      <th>ALB</th>\n",
       "      <th>A/G Ratio</th>\n",
       "      <th>Selector</th>\n",
       "    </tr>\n",
       "  </thead>\n",
       "  <tbody>\n",
       "    <tr>\n",
       "      <th>0</th>\n",
       "      <td>65</td>\n",
       "      <td>Female</td>\n",
       "      <td>0.7</td>\n",
       "      <td>0.1</td>\n",
       "      <td>187</td>\n",
       "      <td>16</td>\n",
       "      <td>18</td>\n",
       "      <td>6.8</td>\n",
       "      <td>3.3</td>\n",
       "      <td>0.90</td>\n",
       "      <td>1</td>\n",
       "    </tr>\n",
       "    <tr>\n",
       "      <th>1</th>\n",
       "      <td>62</td>\n",
       "      <td>Male</td>\n",
       "      <td>10.9</td>\n",
       "      <td>5.5</td>\n",
       "      <td>699</td>\n",
       "      <td>64</td>\n",
       "      <td>100</td>\n",
       "      <td>7.5</td>\n",
       "      <td>3.2</td>\n",
       "      <td>0.74</td>\n",
       "      <td>1</td>\n",
       "    </tr>\n",
       "    <tr>\n",
       "      <th>2</th>\n",
       "      <td>62</td>\n",
       "      <td>Male</td>\n",
       "      <td>7.3</td>\n",
       "      <td>4.1</td>\n",
       "      <td>490</td>\n",
       "      <td>60</td>\n",
       "      <td>68</td>\n",
       "      <td>7.0</td>\n",
       "      <td>3.3</td>\n",
       "      <td>0.89</td>\n",
       "      <td>1</td>\n",
       "    </tr>\n",
       "    <tr>\n",
       "      <th>3</th>\n",
       "      <td>58</td>\n",
       "      <td>Male</td>\n",
       "      <td>1.0</td>\n",
       "      <td>0.4</td>\n",
       "      <td>182</td>\n",
       "      <td>14</td>\n",
       "      <td>20</td>\n",
       "      <td>6.8</td>\n",
       "      <td>3.4</td>\n",
       "      <td>1.00</td>\n",
       "      <td>1</td>\n",
       "    </tr>\n",
       "    <tr>\n",
       "      <th>4</th>\n",
       "      <td>72</td>\n",
       "      <td>Male</td>\n",
       "      <td>3.9</td>\n",
       "      <td>2.0</td>\n",
       "      <td>195</td>\n",
       "      <td>27</td>\n",
       "      <td>59</td>\n",
       "      <td>7.3</td>\n",
       "      <td>2.4</td>\n",
       "      <td>0.40</td>\n",
       "      <td>1</td>\n",
       "    </tr>\n",
       "    <tr>\n",
       "      <th>...</th>\n",
       "      <td>...</td>\n",
       "      <td>...</td>\n",
       "      <td>...</td>\n",
       "      <td>...</td>\n",
       "      <td>...</td>\n",
       "      <td>...</td>\n",
       "      <td>...</td>\n",
       "      <td>...</td>\n",
       "      <td>...</td>\n",
       "      <td>...</td>\n",
       "      <td>...</td>\n",
       "    </tr>\n",
       "    <tr>\n",
       "      <th>578</th>\n",
       "      <td>60</td>\n",
       "      <td>Male</td>\n",
       "      <td>0.5</td>\n",
       "      <td>0.1</td>\n",
       "      <td>500</td>\n",
       "      <td>20</td>\n",
       "      <td>34</td>\n",
       "      <td>5.9</td>\n",
       "      <td>1.6</td>\n",
       "      <td>0.37</td>\n",
       "      <td>2</td>\n",
       "    </tr>\n",
       "    <tr>\n",
       "      <th>579</th>\n",
       "      <td>40</td>\n",
       "      <td>Male</td>\n",
       "      <td>0.6</td>\n",
       "      <td>0.1</td>\n",
       "      <td>98</td>\n",
       "      <td>35</td>\n",
       "      <td>31</td>\n",
       "      <td>6.0</td>\n",
       "      <td>3.2</td>\n",
       "      <td>1.10</td>\n",
       "      <td>1</td>\n",
       "    </tr>\n",
       "    <tr>\n",
       "      <th>580</th>\n",
       "      <td>52</td>\n",
       "      <td>Male</td>\n",
       "      <td>0.8</td>\n",
       "      <td>0.2</td>\n",
       "      <td>245</td>\n",
       "      <td>48</td>\n",
       "      <td>49</td>\n",
       "      <td>6.4</td>\n",
       "      <td>3.2</td>\n",
       "      <td>1.00</td>\n",
       "      <td>1</td>\n",
       "    </tr>\n",
       "    <tr>\n",
       "      <th>581</th>\n",
       "      <td>31</td>\n",
       "      <td>Male</td>\n",
       "      <td>1.3</td>\n",
       "      <td>0.5</td>\n",
       "      <td>184</td>\n",
       "      <td>29</td>\n",
       "      <td>32</td>\n",
       "      <td>6.8</td>\n",
       "      <td>3.4</td>\n",
       "      <td>1.00</td>\n",
       "      <td>1</td>\n",
       "    </tr>\n",
       "    <tr>\n",
       "      <th>582</th>\n",
       "      <td>38</td>\n",
       "      <td>Male</td>\n",
       "      <td>1.0</td>\n",
       "      <td>0.3</td>\n",
       "      <td>216</td>\n",
       "      <td>21</td>\n",
       "      <td>24</td>\n",
       "      <td>7.3</td>\n",
       "      <td>4.4</td>\n",
       "      <td>1.50</td>\n",
       "      <td>2</td>\n",
       "    </tr>\n",
       "  </tbody>\n",
       "</table>\n",
       "<p>583 rows × 11 columns</p>\n",
       "</div>"
      ],
      "text/plain": [
       "     Age  Gender    TB   DB  Alkphos  Sgpt  Sgot   TP  ALB  A/G Ratio  \\\n",
       "0     65  Female   0.7  0.1      187    16    18  6.8  3.3       0.90   \n",
       "1     62    Male  10.9  5.5      699    64   100  7.5  3.2       0.74   \n",
       "2     62    Male   7.3  4.1      490    60    68  7.0  3.3       0.89   \n",
       "3     58    Male   1.0  0.4      182    14    20  6.8  3.4       1.00   \n",
       "4     72    Male   3.9  2.0      195    27    59  7.3  2.4       0.40   \n",
       "..   ...     ...   ...  ...      ...   ...   ...  ...  ...        ...   \n",
       "578   60    Male   0.5  0.1      500    20    34  5.9  1.6       0.37   \n",
       "579   40    Male   0.6  0.1       98    35    31  6.0  3.2       1.10   \n",
       "580   52    Male   0.8  0.2      245    48    49  6.4  3.2       1.00   \n",
       "581   31    Male   1.3  0.5      184    29    32  6.8  3.4       1.00   \n",
       "582   38    Male   1.0  0.3      216    21    24  7.3  4.4       1.50   \n",
       "\n",
       "     Selector  \n",
       "0           1  \n",
       "1           1  \n",
       "2           1  \n",
       "3           1  \n",
       "4           1  \n",
       "..        ...  \n",
       "578         2  \n",
       "579         1  \n",
       "580         1  \n",
       "581         1  \n",
       "582         2  \n",
       "\n",
       "[583 rows x 11 columns]"
      ]
     },
     "execution_count": 2,
     "metadata": {},
     "output_type": "execute_result"
    }
   ],
   "source": [
    "df = pd.read_csv(r'F:\\Full Stack Data Science and AI Naresh-IT\\Projects\\Kaggle\\Classification\\liver disorders\\Indian Liver Patient Dataset (ILPD).csv')\n",
    "df"
   ]
  },
  {
   "cell_type": "code",
   "execution_count": 3,
   "id": "d879a662",
   "metadata": {},
   "outputs": [
    {
     "name": "stdout",
     "output_type": "stream",
     "text": [
      "<class 'pandas.core.frame.DataFrame'>\n",
      "RangeIndex: 583 entries, 0 to 582\n",
      "Data columns (total 11 columns):\n",
      " #   Column     Non-Null Count  Dtype  \n",
      "---  ------     --------------  -----  \n",
      " 0   Age        583 non-null    int64  \n",
      " 1   Gender     583 non-null    object \n",
      " 2   TB         583 non-null    float64\n",
      " 3   DB         583 non-null    float64\n",
      " 4   Alkphos    583 non-null    int64  \n",
      " 5   Sgpt       583 non-null    int64  \n",
      " 6   Sgot       583 non-null    int64  \n",
      " 7   TP         583 non-null    float64\n",
      " 8   ALB        583 non-null    float64\n",
      " 9   A/G Ratio  579 non-null    float64\n",
      " 10  Selector   583 non-null    int64  \n",
      "dtypes: float64(5), int64(5), object(1)\n",
      "memory usage: 50.2+ KB\n"
     ]
    }
   ],
   "source": [
    "df.info()"
   ]
  },
  {
   "cell_type": "code",
   "execution_count": 4,
   "id": "bf9e6b7e",
   "metadata": {},
   "outputs": [],
   "source": [
    "# identifying the continuous and discrete variables"
   ]
  },
  {
   "cell_type": "code",
   "execution_count": 5,
   "id": "5e2d7c95",
   "metadata": {},
   "outputs": [],
   "source": [
    "continuous = ['Age', 'TB', 'DB', 'Alkphos', 'Sgpt', 'Sgot', 'TP', 'ALB', 'A/G Ratio']\n",
    "discrete_categorical = ['Gender']\n",
    "discrete_count = ['Selector']"
   ]
  },
  {
   "cell_type": "code",
   "execution_count": 6,
   "id": "6b707628",
   "metadata": {},
   "outputs": [
    {
     "data": {
      "text/html": [
       "<div>\n",
       "<style scoped>\n",
       "    .dataframe tbody tr th:only-of-type {\n",
       "        vertical-align: middle;\n",
       "    }\n",
       "\n",
       "    .dataframe tbody tr th {\n",
       "        vertical-align: top;\n",
       "    }\n",
       "\n",
       "    .dataframe thead th {\n",
       "        text-align: right;\n",
       "    }\n",
       "</style>\n",
       "<table border=\"1\" class=\"dataframe\">\n",
       "  <thead>\n",
       "    <tr style=\"text-align: right;\">\n",
       "      <th></th>\n",
       "      <th>Age</th>\n",
       "      <th>TB</th>\n",
       "      <th>DB</th>\n",
       "      <th>Alkphos</th>\n",
       "      <th>Sgpt</th>\n",
       "      <th>Sgot</th>\n",
       "      <th>TP</th>\n",
       "      <th>ALB</th>\n",
       "      <th>A/G Ratio</th>\n",
       "    </tr>\n",
       "  </thead>\n",
       "  <tbody>\n",
       "    <tr>\n",
       "      <th>count</th>\n",
       "      <td>583.000000</td>\n",
       "      <td>583.000000</td>\n",
       "      <td>583.000000</td>\n",
       "      <td>583.000000</td>\n",
       "      <td>583.000000</td>\n",
       "      <td>583.000000</td>\n",
       "      <td>583.000000</td>\n",
       "      <td>583.000000</td>\n",
       "      <td>579.000000</td>\n",
       "    </tr>\n",
       "    <tr>\n",
       "      <th>mean</th>\n",
       "      <td>44.746141</td>\n",
       "      <td>3.298799</td>\n",
       "      <td>1.486106</td>\n",
       "      <td>290.576329</td>\n",
       "      <td>80.713551</td>\n",
       "      <td>109.910806</td>\n",
       "      <td>6.483190</td>\n",
       "      <td>3.141852</td>\n",
       "      <td>0.947064</td>\n",
       "    </tr>\n",
       "    <tr>\n",
       "      <th>std</th>\n",
       "      <td>16.189833</td>\n",
       "      <td>6.209522</td>\n",
       "      <td>2.808498</td>\n",
       "      <td>242.937989</td>\n",
       "      <td>182.620356</td>\n",
       "      <td>288.918529</td>\n",
       "      <td>1.085451</td>\n",
       "      <td>0.795519</td>\n",
       "      <td>0.319592</td>\n",
       "    </tr>\n",
       "    <tr>\n",
       "      <th>min</th>\n",
       "      <td>4.000000</td>\n",
       "      <td>0.400000</td>\n",
       "      <td>0.100000</td>\n",
       "      <td>63.000000</td>\n",
       "      <td>10.000000</td>\n",
       "      <td>10.000000</td>\n",
       "      <td>2.700000</td>\n",
       "      <td>0.900000</td>\n",
       "      <td>0.300000</td>\n",
       "    </tr>\n",
       "    <tr>\n",
       "      <th>25%</th>\n",
       "      <td>33.000000</td>\n",
       "      <td>0.800000</td>\n",
       "      <td>0.200000</td>\n",
       "      <td>175.500000</td>\n",
       "      <td>23.000000</td>\n",
       "      <td>25.000000</td>\n",
       "      <td>5.800000</td>\n",
       "      <td>2.600000</td>\n",
       "      <td>0.700000</td>\n",
       "    </tr>\n",
       "    <tr>\n",
       "      <th>50%</th>\n",
       "      <td>45.000000</td>\n",
       "      <td>1.000000</td>\n",
       "      <td>0.300000</td>\n",
       "      <td>208.000000</td>\n",
       "      <td>35.000000</td>\n",
       "      <td>42.000000</td>\n",
       "      <td>6.600000</td>\n",
       "      <td>3.100000</td>\n",
       "      <td>0.930000</td>\n",
       "    </tr>\n",
       "    <tr>\n",
       "      <th>75%</th>\n",
       "      <td>58.000000</td>\n",
       "      <td>2.600000</td>\n",
       "      <td>1.300000</td>\n",
       "      <td>298.000000</td>\n",
       "      <td>60.500000</td>\n",
       "      <td>87.000000</td>\n",
       "      <td>7.200000</td>\n",
       "      <td>3.800000</td>\n",
       "      <td>1.100000</td>\n",
       "    </tr>\n",
       "    <tr>\n",
       "      <th>max</th>\n",
       "      <td>90.000000</td>\n",
       "      <td>75.000000</td>\n",
       "      <td>19.700000</td>\n",
       "      <td>2110.000000</td>\n",
       "      <td>2000.000000</td>\n",
       "      <td>4929.000000</td>\n",
       "      <td>9.600000</td>\n",
       "      <td>5.500000</td>\n",
       "      <td>2.800000</td>\n",
       "    </tr>\n",
       "  </tbody>\n",
       "</table>\n",
       "</div>"
      ],
      "text/plain": [
       "              Age          TB          DB      Alkphos         Sgpt  \\\n",
       "count  583.000000  583.000000  583.000000   583.000000   583.000000   \n",
       "mean    44.746141    3.298799    1.486106   290.576329    80.713551   \n",
       "std     16.189833    6.209522    2.808498   242.937989   182.620356   \n",
       "min      4.000000    0.400000    0.100000    63.000000    10.000000   \n",
       "25%     33.000000    0.800000    0.200000   175.500000    23.000000   \n",
       "50%     45.000000    1.000000    0.300000   208.000000    35.000000   \n",
       "75%     58.000000    2.600000    1.300000   298.000000    60.500000   \n",
       "max     90.000000   75.000000   19.700000  2110.000000  2000.000000   \n",
       "\n",
       "              Sgot          TP         ALB   A/G Ratio  \n",
       "count   583.000000  583.000000  583.000000  579.000000  \n",
       "mean    109.910806    6.483190    3.141852    0.947064  \n",
       "std     288.918529    1.085451    0.795519    0.319592  \n",
       "min      10.000000    2.700000    0.900000    0.300000  \n",
       "25%      25.000000    5.800000    2.600000    0.700000  \n",
       "50%      42.000000    6.600000    3.100000    0.930000  \n",
       "75%      87.000000    7.200000    3.800000    1.100000  \n",
       "max    4929.000000    9.600000    5.500000    2.800000  "
      ]
     },
     "execution_count": 6,
     "metadata": {},
     "output_type": "execute_result"
    }
   ],
   "source": [
    "df[continuous].describe()"
   ]
  },
  {
   "cell_type": "code",
   "execution_count": 7,
   "id": "dbd10f42",
   "metadata": {},
   "outputs": [
    {
     "data": {
      "text/plain": [
       "Gender\n",
       "Male      441\n",
       "Female    142\n",
       "Name: count, dtype: int64"
      ]
     },
     "execution_count": 7,
     "metadata": {},
     "output_type": "execute_result"
    }
   ],
   "source": [
    "df['Gender'].value_counts()"
   ]
  },
  {
   "cell_type": "code",
   "execution_count": 8,
   "id": "3e15c334",
   "metadata": {},
   "outputs": [
    {
     "data": {
      "text/plain": [
       "Selector\n",
       "1    416\n",
       "2    167\n",
       "Name: count, dtype: int64"
      ]
     },
     "execution_count": 8,
     "metadata": {},
     "output_type": "execute_result"
    }
   ],
   "source": [
    "df['Selector'].value_counts()"
   ]
  },
  {
   "cell_type": "code",
   "execution_count": 9,
   "id": "72b73a5e",
   "metadata": {},
   "outputs": [
    {
     "data": {
      "text/plain": [
       "Age          0.000000\n",
       "Gender       0.000000\n",
       "TB           0.000000\n",
       "DB           0.000000\n",
       "Alkphos      0.000000\n",
       "Sgpt         0.000000\n",
       "Sgot         0.000000\n",
       "TP           0.000000\n",
       "ALB          0.000000\n",
       "A/G Ratio    0.006861\n",
       "Selector     0.000000\n",
       "dtype: float64"
      ]
     },
     "execution_count": 9,
     "metadata": {},
     "output_type": "execute_result"
    }
   ],
   "source": [
    "df.isnull().sum() / len(df)"
   ]
  },
  {
   "cell_type": "code",
   "execution_count": 10,
   "id": "89243399",
   "metadata": {},
   "outputs": [
    {
     "data": {
      "image/png": "[encoded data removed]",
      "text/plain": [
       "<Figure size 640x480 with 1 Axes>"
      ]
     },
     "metadata": {},
     "output_type": "display_data"
    }
   ],
   "source": [
    "sns.boxplot(data = df[continuous])\n",
    "plt.show()"
   ]
  },
  {
   "cell_type": "code",
   "execution_count": 11,
   "id": "2e7bf2e0",
   "metadata": {},
   "outputs": [
    {
     "data": {
      "text/plain": [
       "Age          -0.029385\n",
       "TB            4.907474\n",
       "DB            3.212403\n",
       "Alkphos       3.765106\n",
       "Sgpt          6.549192\n",
       "Sgot         10.546177\n",
       "TP           -0.285672\n",
       "ALB          -0.043685\n",
       "A/G Ratio     0.992299\n",
       "dtype: float64"
      ]
     },
     "execution_count": 11,
     "metadata": {},
     "output_type": "execute_result"
    }
   ],
   "source": [
    "df[continuous].skew()"
   ]
  },
  {
   "cell_type": "markdown",
   "id": "3fd83fec",
   "metadata": {},
   "source": [
    "#### EDA"
   ]
  },
  {
   "cell_type": "code",
   "execution_count": 12,
   "id": "9dae632f",
   "metadata": {},
   "outputs": [
    {
     "data": {
      "image/png": "[encoded data removed]",
      "text/plain": [
       "<Figure size 640x480 with 1 Axes>"
      ]
     },
     "metadata": {},
     "output_type": "display_data"
    }
   ],
   "source": [
    "sns.countplot(data =df, x = 'Gender', hue = 'Selector')\n",
    "plt.show()"
   ]
  },
  {
   "cell_type": "code",
   "execution_count": 13,
   "id": "c42d3c44",
   "metadata": {},
   "outputs": [
    {
     "data": {
      "image/png": "[encoded data removed]",
      "text/plain": [
       "<Figure size 640x480 with 1 Axes>"
      ]
     },
     "metadata": {},
     "output_type": "display_data"
    }
   ],
   "source": [
    "sns.boxplot(data = df, x = 'Age')\n",
    "plt.show()"
   ]
  },
  {
   "cell_type": "code",
   "execution_count": 14,
   "id": "9afe1eab",
   "metadata": {},
   "outputs": [
    {
     "data": {
      "image/png": "[encoded data removed]",
      "text/plain": [
       "<Figure size 640x480 with 1 Axes>"
      ]
     },
     "metadata": {},
     "output_type": "display_data"
    }
   ],
   "source": [
    "# boxplot for TB\n",
    "sns.boxplot(data = df, x = 'TB')\n",
    "plt.show()"
   ]
  },
  {
   "cell_type": "code",
   "execution_count": 15,
   "id": "980dcf72",
   "metadata": {},
   "outputs": [
    {
     "data": {
      "image/png": "[encoded data removed]",
      "text/plain": [
       "<Figure size 640x480 with 1 Axes>"
      ]
     },
     "metadata": {},
     "output_type": "display_data"
    }
   ],
   "source": [
    "# boxplot for DB\n",
    "sns.boxplot(data = df, x = 'DB')\n",
    "plt.show()"
   ]
  },
  {
   "cell_type": "code",
   "execution_count": 16,
   "id": "18a41a40",
   "metadata": {},
   "outputs": [
    {
     "data": {
      "image/png": "[encoded data removed]",
      "text/plain": [
       "<Figure size 640x480 with 1 Axes>"
      ]
     },
     "metadata": {},
     "output_type": "display_data"
    }
   ],
   "source": [
    "# boxplot for Alkphos\n",
    "sns.boxplot(data = df, x = 'Alkphos')\n",
    "plt.show()"
   ]
  },
  {
   "cell_type": "code",
   "execution_count": 17,
   "id": "828abba6",
   "metadata": {},
   "outputs": [
    {
     "data": {
      "image/png": "[encoded data removed]",
      "text/plain": [
       "<Figure size 640x480 with 1 Axes>"
      ]
     },
     "metadata": {},
     "output_type": "display_data"
    }
   ],
   "source": [
    "# boxplot for Sgpt\n",
    "sns.boxplot(data = df, x = 'Sgpt')\n",
    "plt.show()"
   ]
  },
  {
   "cell_type": "code",
   "execution_count": 18,
   "id": "dada87df",
   "metadata": {},
   "outputs": [
    {
     "data": {
      "image/png": "[encoded data removed]",
      "text/plain": [
       "<Figure size 640x480 with 1 Axes>"
      ]
     },
     "metadata": {},
     "output_type": "display_data"
    }
   ],
   "source": [
    "# boxplot for Sgot\n",
    "sns.boxplot(data = df, x = 'Sgot')\n",
    "plt.show()"
   ]
  },
  {
   "cell_type": "code",
   "execution_count": 19,
   "id": "2135f60d",
   "metadata": {},
   "outputs": [
    {
     "data": {
      "image/png": "[encoded data removed]",
      "text/plain": [
       "<Figure size 640x480 with 1 Axes>"
      ]
     },
     "metadata": {},
     "output_type": "display_data"
    }
   ],
   "source": [
    "# boxplot for TP\n",
    "sns.boxplot(data = df, x = 'TP')\n",
    "plt.show()"
   ]
  },
  {
   "cell_type": "code",
   "execution_count": 20,
   "id": "b63651eb",
   "metadata": {},
   "outputs": [
    {
     "data": {
      "image/png": "[encoded data removed]",
      "text/plain": [
       "<Figure size 640x480 with 1 Axes>"
      ]
     },
     "metadata": {},
     "output_type": "display_data"
    }
   ],
   "source": [
    "# boxplot for ALB\n",
    "sns.boxplot(data = df, x = 'ALB')\n",
    "plt.show()"
   ]
  },
  {
   "cell_type": "code",
   "execution_count": 21,
   "id": "905ae426",
   "metadata": {},
   "outputs": [
    {
     "data": {
      "image/png": "[encoded data removed]",
      "text/plain": [
       "<Figure size 640x480 with 1 Axes>"
      ]
     },
     "metadata": {},
     "output_type": "display_data"
    }
   ],
   "source": [
    "# boxplot for A/G Ratio\n",
    "sns.boxplot(data = df, x = 'A/G Ratio')\n",
    "plt.show()"
   ]
  },
  {
   "cell_type": "code",
   "execution_count": 22,
   "id": "f66027c8",
   "metadata": {},
   "outputs": [
    {
     "data": {
      "text/plain": [
       "Age          -0.029385\n",
       "TB            4.907474\n",
       "DB            3.212403\n",
       "Alkphos       3.765106\n",
       "Sgpt          6.549192\n",
       "Sgot         10.546177\n",
       "TP           -0.285672\n",
       "ALB          -0.043685\n",
       "A/G Ratio     0.992299\n",
       "dtype: float64"
      ]
     },
     "execution_count": 22,
     "metadata": {},
     "output_type": "execute_result"
    }
   ],
   "source": [
    "df[continuous].skew()"
   ]
  },
  {
   "cell_type": "markdown",
   "id": "266bd5f5",
   "metadata": {},
   "source": [
    "### Step 3: Data preprocessing"
   ]
  },
  {
   "cell_type": "code",
   "execution_count": 23,
   "id": "6dd46b2a",
   "metadata": {},
   "outputs": [],
   "source": [
    "# missing values"
   ]
  },
  {
   "cell_type": "code",
   "execution_count": 24,
   "id": "2de40e05",
   "metadata": {},
   "outputs": [
    {
     "data": {
      "text/plain": [
       "Age          0\n",
       "Gender       0\n",
       "TB           0\n",
       "DB           0\n",
       "Alkphos      0\n",
       "Sgpt         0\n",
       "Sgot         0\n",
       "TP           0\n",
       "ALB          0\n",
       "A/G Ratio    4\n",
       "Selector     0\n",
       "dtype: int64"
      ]
     },
     "execution_count": 24,
     "metadata": {},
     "output_type": "execute_result"
    }
   ],
   "source": [
    "df.isnull().sum()"
   ]
  },
  {
   "cell_type": "code",
   "execution_count": 25,
   "id": "37bb0912",
   "metadata": {},
   "outputs": [],
   "source": [
    "df.dropna(inplace = True)"
   ]
  },
  {
   "cell_type": "code",
   "execution_count": 26,
   "id": "1c3610b4",
   "metadata": {},
   "outputs": [],
   "source": [
    "# duplicates: removing it to avoid overfitting"
   ]
  },
  {
   "cell_type": "code",
   "execution_count": 27,
   "id": "6d74ff9a",
   "metadata": {},
   "outputs": [
    {
     "data": {
      "text/plain": [
       "13"
      ]
     },
     "execution_count": 27,
     "metadata": {},
     "output_type": "execute_result"
    }
   ],
   "source": [
    "df.duplicated().sum()"
   ]
  },
  {
   "cell_type": "code",
   "execution_count": 28,
   "id": "e0b90ff4",
   "metadata": {},
   "outputs": [],
   "source": [
    "# data wrangling"
   ]
  },
  {
   "cell_type": "code",
   "execution_count": 29,
   "id": "8cdc6017",
   "metadata": {},
   "outputs": [],
   "source": [
    "# 1 Transformation"
   ]
  },
  {
   "cell_type": "code",
   "execution_count": 30,
   "id": "82f35d48",
   "metadata": {},
   "outputs": [],
   "source": [
    "from scipy.stats import boxcox\n",
    "df['TB'], p1 = boxcox(df['TB'])\n",
    "df['DB'], p2 = boxcox(df['DB'])\n",
    "df['Alkphos'], p3 = boxcox(df['Alkphos'])\n",
    "df['Sgpt'], p4 = boxcox(df['Sgpt'])\n",
    "df['Sgot'], p5 = boxcox(df['Sgot'])"
   ]
  },
  {
   "cell_type": "code",
   "execution_count": 31,
   "id": "ea7b975d",
   "metadata": {},
   "outputs": [
    {
     "data": {
      "text/plain": [
       "Age         -0.033591\n",
       "TB           0.348320\n",
       "DB           0.181050\n",
       "Alkphos     -0.048469\n",
       "Sgpt         0.077094\n",
       "Sgot         0.107046\n",
       "TP          -0.292433\n",
       "ALB         -0.048516\n",
       "A/G Ratio    0.992299\n",
       "dtype: float64"
      ]
     },
     "execution_count": 31,
     "metadata": {},
     "output_type": "execute_result"
    }
   ],
   "source": [
    "df[continuous].skew()"
   ]
  },
  {
   "cell_type": "code",
   "execution_count": 32,
   "id": "604520b8",
   "metadata": {},
   "outputs": [],
   "source": [
    "# 2 Encoding"
   ]
  },
  {
   "cell_type": "code",
   "execution_count": 33,
   "id": "ebaa74f0",
   "metadata": {},
   "outputs": [],
   "source": [
    "df['Gender'] = df['Gender'].map({'Female': 0, 'Male': 1})"
   ]
  },
  {
   "cell_type": "markdown",
   "id": "eb69f648",
   "metadata": {},
   "source": [
    "#### X & y"
   ]
  },
  {
   "cell_type": "code",
   "execution_count": 34,
   "id": "ba61251c",
   "metadata": {},
   "outputs": [],
   "source": [
    "X = df.drop(columns = ['Selector'])\n",
    "y = df['Selector']"
   ]
  },
  {
   "cell_type": "markdown",
   "id": "dcd7b320",
   "metadata": {},
   "source": [
    "#### Train test split"
   ]
  },
  {
   "cell_type": "code",
   "execution_count": 35,
   "id": "bfcace28",
   "metadata": {},
   "outputs": [],
   "source": [
    "from sklearn.model_selection import train_test_split\n",
    "X_train, X_test, y_train, y_test = train_test_split(X, y, random_state = 53,train_size = 0.8)"
   ]
  },
  {
   "cell_type": "code",
   "execution_count": 36,
   "id": "0f9e1dd5",
   "metadata": {},
   "outputs": [],
   "source": [
    "# standardization"
   ]
  },
  {
   "cell_type": "code",
   "execution_count": 37,
   "id": "19fb79fc",
   "metadata": {},
   "outputs": [],
   "source": [
    "X_train = X_train[['Gender','Age', 'TB', 'DB', 'Alkphos', 'Sgpt', 'Sgot', 'TP', 'ALB',\n",
    "       'A/G Ratio']]\n",
    "X_test = X_test[['Gender','Age', 'TB', 'DB', 'Alkphos', 'Sgpt', 'Sgot', 'TP', 'ALB',\n",
    "       'A/G Ratio']]"
   ]
  },
  {
   "cell_type": "code",
   "execution_count": 38,
   "id": "0e919174",
   "metadata": {},
   "outputs": [],
   "source": [
    "from sklearn.preprocessing import StandardScaler\n",
    "sc = StandardScaler()\n",
    "X_train.iloc[:, 1:] = sc.fit_transform(X_train.iloc[:, 1:])\n",
    "X_test.iloc[:, 1:] = sc.transform(X_test.iloc[:, 1:])"
   ]
  },
  {
   "cell_type": "code",
   "execution_count": 39,
   "id": "b95c8098",
   "metadata": {},
   "outputs": [
    {
     "data": {
      "text/html": [
       "<div>\n",
       "<style scoped>\n",
       "    .dataframe tbody tr th:only-of-type {\n",
       "        vertical-align: middle;\n",
       "    }\n",
       "\n",
       "    .dataframe tbody tr th {\n",
       "        vertical-align: top;\n",
       "    }\n",
       "\n",
       "    .dataframe thead th {\n",
       "        text-align: right;\n",
       "    }\n",
       "</style>\n",
       "<table border=\"1\" class=\"dataframe\">\n",
       "  <thead>\n",
       "    <tr style=\"text-align: right;\">\n",
       "      <th></th>\n",
       "      <th>Gender</th>\n",
       "      <th>Age</th>\n",
       "      <th>TB</th>\n",
       "      <th>DB</th>\n",
       "      <th>Alkphos</th>\n",
       "      <th>Sgpt</th>\n",
       "      <th>Sgot</th>\n",
       "      <th>TP</th>\n",
       "      <th>ALB</th>\n",
       "      <th>A/G Ratio</th>\n",
       "    </tr>\n",
       "  </thead>\n",
       "  <tbody>\n",
       "    <tr>\n",
       "      <th>7</th>\n",
       "      <td>0</td>\n",
       "      <td>-0.970916</td>\n",
       "      <td>-0.489930</td>\n",
       "      <td>-0.258235</td>\n",
       "      <td>-0.256914</td>\n",
       "      <td>-1.754739</td>\n",
       "      <td>-2.358713</td>\n",
       "      <td>0.199968</td>\n",
       "      <td>0.576370</td>\n",
       "      <td>0.478562</td>\n",
       "    </tr>\n",
       "    <tr>\n",
       "      <th>48</th>\n",
       "      <td>0</td>\n",
       "      <td>-0.785897</td>\n",
       "      <td>-1.360746</td>\n",
       "      <td>-1.577470</td>\n",
       "      <td>-0.616703</td>\n",
       "      <td>0.080695</td>\n",
       "      <td>-0.606752</td>\n",
       "      <td>-0.441711</td>\n",
       "      <td>-0.181394</td>\n",
       "      <td>0.163154</td>\n",
       "    </tr>\n",
       "    <tr>\n",
       "      <th>406</th>\n",
       "      <td>1</td>\n",
       "      <td>0.015851</td>\n",
       "      <td>-0.999205</td>\n",
       "      <td>-0.687714</td>\n",
       "      <td>-0.555548</td>\n",
       "      <td>-1.211790</td>\n",
       "      <td>0.334288</td>\n",
       "      <td>0.199968</td>\n",
       "      <td>0.702664</td>\n",
       "      <td>0.793970</td>\n",
       "    </tr>\n",
       "    <tr>\n",
       "      <th>400</th>\n",
       "      <td>0</td>\n",
       "      <td>1.310982</td>\n",
       "      <td>-0.999205</td>\n",
       "      <td>-0.687714</td>\n",
       "      <td>-0.851050</td>\n",
       "      <td>-0.670281</td>\n",
       "      <td>-1.155742</td>\n",
       "      <td>-0.075037</td>\n",
       "      <td>0.071194</td>\n",
       "      <td>0.163154</td>\n",
       "    </tr>\n",
       "    <tr>\n",
       "      <th>347</th>\n",
       "      <td>1</td>\n",
       "      <td>-0.415859</td>\n",
       "      <td>-0.999205</td>\n",
       "      <td>-0.687714</td>\n",
       "      <td>-0.094465</td>\n",
       "      <td>1.875017</td>\n",
       "      <td>0.905175</td>\n",
       "      <td>0.474973</td>\n",
       "      <td>0.450076</td>\n",
       "      <td>0.163154</td>\n",
       "    </tr>\n",
       "  </tbody>\n",
       "</table>\n",
       "</div>"
      ],
      "text/plain": [
       "     Gender       Age        TB        DB   Alkphos      Sgpt      Sgot  \\\n",
       "7         0 -0.970916 -0.489930 -0.258235 -0.256914 -1.754739 -2.358713   \n",
       "48        0 -0.785897 -1.360746 -1.577470 -0.616703  0.080695 -0.606752   \n",
       "406       1  0.015851 -0.999205 -0.687714 -0.555548 -1.211790  0.334288   \n",
       "400       0  1.310982 -0.999205 -0.687714 -0.851050 -0.670281 -1.155742   \n",
       "347       1 -0.415859 -0.999205 -0.687714 -0.094465  1.875017  0.905175   \n",
       "\n",
       "           TP       ALB  A/G Ratio  \n",
       "7    0.199968  0.576370   0.478562  \n",
       "48  -0.441711 -0.181394   0.163154  \n",
       "406  0.199968  0.702664   0.793970  \n",
       "400 -0.075037  0.071194   0.163154  \n",
       "347  0.474973  0.450076   0.163154  "
      ]
     },
     "execution_count": 39,
     "metadata": {},
     "output_type": "execute_result"
    }
   ],
   "source": [
    "X_train.head()"
   ]
  },
  {
   "cell_type": "markdown",
   "id": "224e3b5a",
   "metadata": {},
   "source": [
    "### Step 4: Modelling and evaluation"
   ]
  },
  {
   "cell_type": "code",
   "execution_count": 40,
   "id": "7cffef1a",
   "metadata": {},
   "outputs": [
    {
     "name": "stdout",
     "output_type": "stream",
     "text": [
      "train:  0.7386609071274298\n",
      "test:  0.7586206896551724\n",
      "cv score:  0.7000233754090697\n"
     ]
    }
   ],
   "source": [
    "from sklearn.linear_model import LogisticRegression\n",
    "lr = LogisticRegression()\n",
    "lr.fit(X_train, y_train)\n",
    "\n",
    "ypred_train = lr.predict(X_train)\n",
    "ypred_test = lr.predict(X_test)\n",
    "\n",
    "from sklearn.metrics import accuracy_score\n",
    "print('train: ', accuracy_score(y_train, ypred_train))\n",
    "print('test: ', accuracy_score(y_test, ypred_test))\n",
    "\n",
    "from sklearn.model_selection import cross_val_score\n",
    "print('cv score: ', cross_val_score(lr, X_train, y_train, cv = 5, scoring = 'accuracy').mean())"
   ]
  },
  {
   "cell_type": "code",
   "execution_count": null,
   "id": "6a28446a",
   "metadata": {},
   "outputs": [],
   "source": []
  }
 ],
 "metadata": {
  "kernelspec": {
   "display_name": "Python 3 (ipykernel)",
   "language": "python",
   "name": "python3"
  },
  "language_info": {
   "codemirror_mode": {
    "name": "ipython",
    "version": 3
   },
   "file_extension": ".py",
   "mimetype": "text/x-python",
   "name": "python",
   "nbconvert_exporter": "python",
   "pygments_lexer": "ipython3",
   "version": "3.11.5"
  }
 },
 "nbformat": 4,
 "nbformat_minor": 5
}
